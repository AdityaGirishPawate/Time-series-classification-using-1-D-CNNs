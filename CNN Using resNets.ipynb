{
 "cells": [
  {
   "cell_type": "code",
   "execution_count": 28,
   "metadata": {},
   "outputs": [],
   "source": [
    "import numpy as np\n",
    "import h5py\n",
    "import matplotlib.pyplot as plt\n",
    "import math\n",
    "from keras import layers\n",
    "from keras.layers import Input, Add, Dense, Activation, ZeroPadding2D, BatchNormalization, Flatten, Conv2D, AveragePooling2D, MaxPooling2D, GlobalMaxPooling2D\n",
    "from keras.models import Model, load_model\n",
    "from keras.preprocessing import image\n",
    "from keras.utils import layer_utils\n",
    "from keras.utils.data_utils import get_file\n",
    "from keras.applications.imagenet_utils import preprocess_input\n",
    "import pydot\n",
    "from IPython.display import SVG\n",
    "from keras.utils.vis_utils import model_to_dot\n",
    "from keras.utils import plot_model\n",
    "from keras.initializers import glorot_uniform\n",
    "import scipy.misc\n",
    "from matplotlib.pyplot import imshow\n",
    "%matplotlib inline\n",
    "\n",
    "import keras.backend as K\n",
    "K.set_image_data_format('channels_last')\n",
    "K.set_learning_phase(1)"
   ]
  },
  {
   "cell_type": "code",
   "execution_count": 10,
   "metadata": {},
   "outputs": [],
   "source": [
    "def identity_block(X, f, filters, stage, block):\n",
    "\n",
    "    conv_name_base = 'res' + str(stage) + block + '_branch'\n",
    "    bn_name_base = 'bn' + str(stage) + block + '_branch'\n",
    "\n",
    "    F1, F2, F3 = filters\n",
    "    \n",
    "    X_shortcut = X   \n",
    "    \n",
    "    X = Conv2D(filters = F1, kernel_size = (1, 1), strides = (1,1), padding = 'valid', name = conv_name_base + '2a', kernel_initializer = glorot_uniform(seed=0))(X)\n",
    "    X = BatchNormalization(axis = 3, name = bn_name_base + '2a')(X)\n",
    "    X = Activation('relu')(X)\n",
    "\n",
    "    X = Conv2D(filters=F2,kernel_size=(f,f),strides=(1,1),padding='same',name=conv_name_base+'2b',kernel_initializer=glorot_uniform(seed=0))(X)\n",
    "    X = BatchNormalization(axis=3,name= bn_name_base+'2b')(X)\n",
    "    X = Activation('relu')(X)\n",
    "\n",
    "    X = Conv2D(filters=F3,kernel_size=(1,1),strides=(1,1),padding='valid',name=conv_name_base+'2c',kernel_initializer=glorot_uniform(seed=0))(X)\n",
    "    X = BatchNormalization(axis=3,name=bn_name_base+'2c')(X)\n",
    "\n",
    "\n",
    "    X = Add()([X_shortcut,X])\n",
    "    X = Activation('relu')(X)\n",
    "\n",
    "    \n",
    "    return X"
   ]
  },
  {
   "cell_type": "code",
   "execution_count": 11,
   "metadata": {},
   "outputs": [],
   "source": [
    "def convolutional_block(X, f, filters, stage, block, s = 2):\n",
    "\n",
    "    conv_name_base = 'res' + str(stage) + block + '_branch'\n",
    "    bn_name_base = 'bn' + str(stage) + block + '_branch'\n",
    "    \n",
    "    F1, F2, F3 = filters   \n",
    "\n",
    "    X_shortcut = X\n",
    " \n",
    "    X = Conv2D(F1, (1, 1), strides = (s,s),padding='valid', name = conv_name_base + '2a', kernel_initializer = glorot_uniform(seed=0))(X)\n",
    "    X = BatchNormalization(axis = 3, name = bn_name_base + '2a')(X)\n",
    "    X = Activation('relu')(X)\n",
    "    \n",
    "\n",
    "    X = Conv2D(filters=F2,kernel_size=(f,f),padding='same',strides=(1,1),name=conv_name_base+'2b',kernel_initializer=glorot_uniform(seed=0))(X)\n",
    "    X = BatchNormalization(axis=3,name=bn_name_base+'2b')(X)\n",
    "    X = Activation('relu')(X)\n",
    "    \n",
    "\n",
    "    X = Conv2D(filters=F3,kernel_size=(1,1),strides=(1,1),name=conv_name_base+'2c',kernel_initializer=glorot_uniform(seed=0))(X)\n",
    "    X = BatchNormalization(axis=3,name=bn_name_base+'2c')(X)\n",
    "\n",
    "\n",
    "    X_shortcut = Conv2D(filters=F3,kernel_size=(1,1),strides=(s,s),name=conv_name_base+'1',kernel_initializer=glorot_uniform(seed=0))(X_shortcut)\n",
    "    X_shortcut = BatchNormalization(axis=3,name=bn_name_base+'1')(X_shortcut)\n",
    "\n",
    " \n",
    "    X = Add()([X_shortcut,X])\n",
    "    X = Activation('relu')(X)\n",
    "    \n",
    "    \n",
    "    return X"
   ]
  },
  {
   "cell_type": "code",
   "execution_count": 12,
   "metadata": {},
   "outputs": [],
   "source": [
    "def ResNet50(input_shape = (64, 64, 3), classes = 6):\n",
    "\n",
    "    X_input = Input(input_shape)\n",
    "\n",
    "\n",
    "    X = ZeroPadding2D((3, 3))(X_input)\n",
    "\n",
    "    X = Conv2D(64, (7, 7), strides = (2, 2), name = 'conv1', kernel_initializer = glorot_uniform(seed=0))(X)\n",
    "    X = BatchNormalization(axis = 3, name = 'bn_conv1')(X)\n",
    "    X = Activation('relu')(X)\n",
    "    X = MaxPooling2D((3, 3), strides=(2, 2))(X)\n",
    "\n",
    "    X = convolutional_block(X, f = 3, filters = [64, 64, 256], stage = 2, block='a', s = 1)\n",
    "    X = identity_block(X, 3, [64, 64, 256], stage=2, block='b')\n",
    "    X = identity_block(X, 3, [64, 64, 256], stage=2, block='c')\n",
    "\n",
    "    X = convolutional_block(X, f = 3, filters = [128,128,512], stage = 3, block='a', s = 2)\n",
    "    X = identity_block(X, 3,  [128,128,512], stage=3, block='b')\n",
    "    X = identity_block(X, 3,  [128,128,512], stage=3, block='c')\n",
    "    X = identity_block(X, 3,  [128,128,512], stage=3, block='d')\n",
    "\n",
    "    X = convolutional_block(X, f = 3, filters = [256, 256, 1024], stage = 4, block='a', s = 2)\n",
    "    X = identity_block(X, 3,  [256, 256, 1024], stage=4, block='b')\n",
    "    X = identity_block(X, 3,  [256, 256, 1024], stage=4, block='c')\n",
    "    X = identity_block(X, 3,  [256, 256, 1024], stage=4, block='d')\n",
    "    X = identity_block(X, 3,  [256, 256, 1024], stage=4, block='e')\n",
    "    X = identity_block(X, 3,  [256, 256, 1024], stage=4, block='f')\n",
    "\n",
    "    X = convolutional_block(X, f = 3, filters = [512, 512, 2048], stage = 5, block='a', s = 2)\n",
    "    X = identity_block(X, 3,  [512, 512, 2048], stage=5, block='b')\n",
    "    X = identity_block(X, 3,  [512, 512, 2048], stage=5, block='c')\n",
    "\n",
    "    X = AveragePooling2D((2,2))(X)\n",
    "\n",
    "    X = Flatten()(X)\n",
    "    X = Dense(classes, activation='softmax', name='fc' + str(classes), kernel_initializer = glorot_uniform(seed=0))(X)\n",
    "    \n",
    "\n",
    "    model = Model(inputs = X_input, outputs = X, name='ResNet50')\n",
    "\n",
    "    return model"
   ]
  },
  {
   "cell_type": "code",
   "execution_count": 13,
   "metadata": {},
   "outputs": [],
   "source": [
    "model=ResNet50(input_shape=(64,64,3),classes=6)"
   ]
  },
  {
   "cell_type": "code",
   "execution_count": 14,
   "metadata": {},
   "outputs": [],
   "source": [
    "model.compile(optimizer='adam',loss='categorical_crossentropy',metrics=['accuracy'])"
   ]
  },
  {
   "cell_type": "code",
   "execution_count": 21,
   "metadata": {},
   "outputs": [],
   "source": [
    "def load_dataset():\n",
    "    train_dataset = h5py.File('C:/Users/Girish/Downloads/Jupyter notebooks/train_signs.h5', \"r\")\n",
    "    train_set_x_orig = np.array(train_dataset[\"train_set_x\"][:]) # your train set features\n",
    "    train_set_y_orig = np.array(train_dataset[\"train_set_y\"][:]) # your train set labels\n",
    "\n",
    "    test_dataset = h5py.File('C:/Users/Girish/Downloads/Jupyter notebooks/test_signs.h5', \"r\")\n",
    "    test_set_x_orig = np.array(test_dataset[\"test_set_x\"][:]) # your test set features\n",
    "    test_set_y_orig = np.array(test_dataset[\"test_set_y\"][:]) # your test set labels\n",
    "\n",
    "    classes = np.array(test_dataset[\"list_classes\"][:]) # the list of classes\n",
    "    \n",
    "    train_set_y_orig = train_set_y_orig.reshape((1, train_set_y_orig.shape[0]))\n",
    "    test_set_y_orig = test_set_y_orig.reshape((1, test_set_y_orig.shape[0]))\n",
    "    \n",
    "    return train_set_x_orig, train_set_y_orig, test_set_x_orig, test_set_y_orig, classes"
   ]
  },
  {
   "cell_type": "code",
   "execution_count": 25,
   "metadata": {},
   "outputs": [],
   "source": [
    "def convert_to_one_hot(Y, C):\n",
    "    Y = np.eye(C)[Y.reshape(-1)].T\n",
    "    return Y"
   ]
  },
  {
   "cell_type": "code",
   "execution_count": 26,
   "metadata": {},
   "outputs": [
    {
     "name": "stdout",
     "output_type": "stream",
     "text": [
      "number of training examples = 1080\n",
      "number of test examples = 120\n",
      "X_train shape: (1080, 64, 64, 3)\n",
      "Y_train shape: (1080, 6)\n",
      "X_test shape: (120, 64, 64, 3)\n",
      "Y_test shape: (120, 6)\n"
     ]
    }
   ],
   "source": [
    "X_train_orig, Y_train_orig, X_test_orig, Y_test_orig, classes = load_dataset()\n",
    "\n",
    "X_train = X_train_orig/255.\n",
    "X_test = X_test_orig/255.\n",
    "\n",
    "Y_train = convert_to_one_hot(Y_train_orig, 6).T\n",
    "Y_test = convert_to_one_hot(Y_test_orig, 6).T\n",
    "\n",
    "print (\"number of training examples = \" + str(X_train.shape[0]))\n",
    "print (\"number of test examples = \" + str(X_test.shape[0]))\n",
    "print (\"X_train shape: \" + str(X_train.shape))\n",
    "print (\"Y_train shape: \" + str(Y_train.shape))\n",
    "print (\"X_test shape: \" + str(X_test.shape))\n",
    "print (\"Y_test shape: \" + str(Y_test.shape))"
   ]
  },
  {
   "cell_type": "code",
   "execution_count": 30,
   "metadata": {},
   "outputs": [
    {
     "name": "stdout",
     "output_type": "stream",
     "text": [
      "Epoch 1/24\n",
      "1080/1080 [==============================] - 97s 90ms/step - loss: 1.7821 - accuracy: 0.4778\n",
      "Epoch 2/24\n",
      "1080/1080 [==============================] - 99s 92ms/step - loss: 0.5119 - accuracy: 0.8120\n",
      "Epoch 3/24\n",
      "1080/1080 [==============================] - 108s 100ms/step - loss: 0.2508 - accuracy: 0.9111\n",
      "Epoch 4/24\n",
      "1080/1080 [==============================] - 101s 94ms/step - loss: 0.3236 - accuracy: 0.9019\n",
      "Epoch 5/24\n",
      "1080/1080 [==============================] - 93s 86ms/step - loss: 0.3031 - accuracy: 0.9231\n",
      "Epoch 6/24\n",
      "1080/1080 [==============================] - 89s 82ms/step - loss: 0.1625 - accuracy: 0.9444\n",
      "Epoch 7/24\n",
      "1080/1080 [==============================] - 90s 83ms/step - loss: 0.1389 - accuracy: 0.9639\n",
      "Epoch 8/24\n",
      "1080/1080 [==============================] - 89s 82ms/step - loss: 0.2573 - accuracy: 0.9250\n",
      "Epoch 9/24\n",
      "1080/1080 [==============================] - 88s 82ms/step - loss: 0.0925 - accuracy: 0.9685\n",
      "Epoch 10/24\n",
      "1080/1080 [==============================] - 98s 90ms/step - loss: 0.0654 - accuracy: 0.9833\n",
      "Epoch 11/24\n",
      "1080/1080 [==============================] - 99s 92ms/step - loss: 0.0638 - accuracy: 0.9787\n",
      "Epoch 12/24\n",
      "1080/1080 [==============================] - 102s 94ms/step - loss: 0.0432 - accuracy: 0.9852\n",
      "Epoch 13/24\n",
      "1080/1080 [==============================] - 102s 94ms/step - loss: 0.0230 - accuracy: 0.9944\n",
      "Epoch 14/24\n",
      "1080/1080 [==============================] - 103s 95ms/step - loss: 0.0098 - accuracy: 0.9972\n",
      "Epoch 15/24\n",
      "1080/1080 [==============================] - 100s 93ms/step - loss: 0.0154 - accuracy: 0.9954\n",
      "Epoch 16/24\n",
      "1080/1080 [==============================] - 100s 93ms/step - loss: 0.0283 - accuracy: 0.9870\n",
      "Epoch 17/24\n",
      "1080/1080 [==============================] - 99s 92ms/step - loss: 0.0708 - accuracy: 0.9852\n",
      "Epoch 18/24\n",
      "1080/1080 [==============================] - 99s 92ms/step - loss: 0.0306 - accuracy: 0.9843\n",
      "Epoch 19/24\n",
      "1080/1080 [==============================] - 99s 92ms/step - loss: 0.1047 - accuracy: 0.9685\n",
      "Epoch 20/24\n",
      "1080/1080 [==============================] - 93s 86ms/step - loss: 0.2010 - accuracy: 0.9519\n",
      "Epoch 21/24\n",
      "1080/1080 [==============================] - 91s 85ms/step - loss: 0.1558 - accuracy: 0.9583\n",
      "Epoch 22/24\n",
      "1080/1080 [==============================] - 92s 85ms/step - loss: 0.1246 - accuracy: 0.9685\n",
      "Epoch 23/24\n",
      "1080/1080 [==============================] - 91s 85ms/step - loss: 0.0690 - accuracy: 0.9806\n",
      "Epoch 24/24\n",
      "1080/1080 [==============================] - 88s 82ms/step - loss: 0.0399 - accuracy: 0.9861\n"
     ]
    }
   ],
   "source": [
    "history=model.fit(X_train,Y_train,batch_size=45,epochs=24)"
   ]
  },
  {
   "cell_type": "code",
   "execution_count": 31,
   "metadata": {},
   "outputs": [
    {
     "data": {
      "image/png": "[encoded data removed]",
      "text/plain": [
       "<Figure size 432x288 with 1 Axes>"
      ]
     },
     "metadata": {
      "needs_background": "light"
     },
     "output_type": "display_data"
    }
   ],
   "source": [
    "plt.plot(history.history['loss'])\n",
    "plt.title('model loss')\n",
    "plt.ylabel('loss')\n",
    "plt.xlabel('epoch')\n",
    "plt.legend(['train', 'test'], loc='upper left')\n",
    "plt.show()"
   ]
  },
  {
   "cell_type": "code",
   "execution_count": 32,
   "metadata": {},
   "outputs": [
    {
     "data": {
      "text/plain": [
       "<matplotlib.legend.Legend at 0x219ebc65f48>"
      ]
     },
     "execution_count": 32,
     "metadata": {},
     "output_type": "execute_result"
    },
    {
     "data": {
      "image/png": "[encoded data removed]",
      "text/plain": [
       "<Figure size 432x288 with 1 Axes>"
      ]
     },
     "metadata": {
      "needs_background": "light"
     },
     "output_type": "display_data"
    }
   ],
   "source": [
    "plt.plot(history.history['accuracy'])\n",
    "plt.xlabel('epoch')\n",
    "plt.ylabel('accuracy')\n",
    "plt.title('model accuracy')\n",
    "plt.legend(['train', 'test'], loc='upper left')"
   ]
  },
  {
   "cell_type": "code",
   "execution_count": 33,
   "metadata": {},
   "outputs": [
    {
     "name": "stdout",
     "output_type": "stream",
     "text": [
      "120/120 [==============================] - 21s 179ms/step\n",
      "loss=0.2657895515362422\n",
      "accuracy=0.9583333134651184\n"
     ]
    }
   ],
   "source": [
    "pred=model.evaluate(X_test,Y_test)\n",
    "print(\"loss=\"+str(pred[0]))\n",
    "print(\"accuracy=\"+str(pred[1]))"
   ]
  }
 ],
 "metadata": {
  "kernelspec": {
   "display_name": "Python 3",
   "language": "python",
   "name": "python3"
  },
  "language_info": {
   "codemirror_mode": {
    "name": "ipython",
    "version": 3
   },
   "file_extension": ".py",
   "mimetype": "text/x-python",
   "name": "python",
   "nbconvert_exporter": "python",
   "pygments_lexer": "ipython3",
   "version": "3.7.7"
  }
 },
 "nbformat": 4,
 "nbformat_minor": 2
}
