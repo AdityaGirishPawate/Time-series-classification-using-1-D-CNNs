{
 "cells": [
  {
   "cell_type": "code",
   "execution_count": 1,
   "metadata": {},
   "outputs": [
    {
     "name": "stderr",
     "output_type": "stream",
     "text": [
      "Using TensorFlow backend.\n"
     ]
    }
   ],
   "source": [
    "import numpy as np\n",
    "from keras import layers\n",
    "from keras.layers import Input, Dense, Activation, ZeroPadding2D, BatchNormalization, Flatten, Conv2D\n",
    "from keras.layers import AveragePooling2D, MaxPooling2D, Dropout, GlobalMaxPooling2D, GlobalAveragePooling2D\n",
    "from keras.models import Model\n",
    "from keras.preprocessing import image\n",
    "from keras.utils import layer_utils\n",
    "from keras.utils.data_utils import get_file\n",
    "from keras.applications.imagenet_utils import preprocess_input\n",
    "from IPython.display import SVG\n",
    "from keras.utils.vis_utils import model_to_dot\n",
    "from keras.utils import plot_model\n",
    "import tensorflow as tf\n",
    "import keras.backend as K\n",
    "K.set_image_data_format('channels_last')\n",
    "import matplotlib.pyplot as plt\n",
    "from matplotlib.pyplot import imshow\n",
    "\n",
    "%matplotlib inline"
   ]
  },
  {
   "cell_type": "code",
   "execution_count": 2,
   "metadata": {},
   "outputs": [],
   "source": [
    "import keras.backend as K\n",
    "import math\n",
    "import numpy as np\n",
    "import h5py\n",
    "import matplotlib.pyplot as plt\n",
    "\n",
    "\n",
    "def mean_pred(y_true, y_pred):\n",
    "    return K.mean(y_pred)\n",
    "\n",
    "def load_dataset():\n",
    "    train_dataset = h5py.File('C:/Users/Girish/Downloads/Jupyter notebooks/train_happy.h5', \"r\")\n",
    "    train_set_x_orig = np.array(train_dataset[\"train_set_x\"][:]) # your train set features\n",
    "    train_set_y_orig = np.array(train_dataset[\"train_set_y\"][:]) # your train set labels\n",
    "\n",
    "    test_dataset = h5py.File('C:/Users/Girish/Downloads/Jupyter notebooks/test_happy.h5', \"r\")\n",
    "    test_set_x_orig = np.array(test_dataset[\"test_set_x\"][:]) # your test set features\n",
    "    test_set_y_orig = np.array(test_dataset[\"test_set_y\"][:]) # your test set labels\n",
    "\n",
    "    classes = np.array(test_dataset[\"list_classes\"][:]) # the list of classes\n",
    "    \n",
    "    train_set_y_orig = train_set_y_orig.reshape((1, train_set_y_orig.shape[0]))\n",
    "    test_set_y_orig = test_set_y_orig.reshape((1, test_set_y_orig.shape[0]))\n",
    "    \n",
    "    return train_set_x_orig, train_set_y_orig, test_set_x_orig, test_set_y_orig, classes"
   ]
  },
  {
   "cell_type": "code",
   "execution_count": 3,
   "metadata": {},
   "outputs": [
    {
     "name": "stdout",
     "output_type": "stream",
     "text": [
      "number of training examples = 600\n",
      "number of test examples = 150\n",
      "X_train shape: (600, 64, 64, 3)\n",
      "Y_train shape: (600, 1)\n",
      "X_test shape: (150, 64, 64, 3)\n",
      "Y_test shape: (150, 1)\n"
     ]
    }
   ],
   "source": [
    "X_train_orig, Y_train_orig, X_test_orig, Y_test_orig, classes = load_dataset()\n",
    "\n",
    "# Normalize image vectors\n",
    "X_train = X_train_orig/255.\n",
    "X_test = X_test_orig/255.\n",
    "\n",
    "# Reshape\n",
    "Y_train = Y_train_orig.T\n",
    "Y_test = Y_test_orig.T\n",
    "\n",
    "print (\"number of training examples = \" + str(X_train.shape[0]))\n",
    "print (\"number of test examples = \" + str(X_test.shape[0]))\n",
    "print (\"X_train shape: \" + str(X_train.shape))\n",
    "print (\"Y_train shape: \" + str(Y_train.shape))\n",
    "print (\"X_test shape: \" + str(X_test.shape))\n",
    "print (\"Y_test shape: \" + str(Y_test.shape))"
   ]
  },
  {
   "cell_type": "code",
   "execution_count": 4,
   "metadata": {},
   "outputs": [],
   "source": [
    "def KerasModel(input_shape):\n",
    "    \"\"\"\n",
    "    Implementation of the HappyModel.\n",
    "    \n",
    "    Arguments:\n",
    "    input_shape -- shape of the images of the dataset\n",
    "        (height, width, channels) as a tuple.  \n",
    "        Note that this does not include the 'batch' as a dimension.\n",
    "        If you have a batch like 'X_train', \n",
    "        then you can provide the input_shape using\n",
    "        X_train.shape[1:]\n",
    "    \"\"\"\n",
    "    X_input=Input(input_shape)\n",
    "    X=ZeroPadding2D((3,3))(X_input)\n",
    "    \n",
    "    X=Conv2D(32,(5,5),strides=(2,2),name='conv0')(X)\n",
    "    X=BatchNormalization(axis=3,name='bn0')(X)\n",
    "    X=Activation('relu')(X)\n",
    "    \n",
    "    X=MaxPooling2D((2,2),name='max_pool1')(X)\n",
    "    \n",
    "    X=Conv2D(64,(3,3),strides=(2,2),name='conv1')(X)\n",
    "    X=BatchNormalization(axis=3,name='bn1')(X)\n",
    "    X=Activation('relu')(X)\n",
    "    \n",
    "    X=MaxPooling2D((2,2),name='max_pool2')(X)\n",
    "    \n",
    "    X=Conv2D(128,(1,1),strides=(1,1),name='conv2')(X)\n",
    "    X=BatchNormalization(axis=3,name='bn2')(X)\n",
    "    X=Activation('relu')(X)\n",
    "    \n",
    "    X=MaxPooling2D((2,2),name='max_pool3')(X)\n",
    "    \n",
    "    \n",
    "    X=Flatten()(X)\n",
    "    \n",
    "    X=Dense(6,activation='tanh')(X)\n",
    "    X=Dense(12,activation='tanh')(X)\n",
    "    \n",
    "    X=Dense(1,activation='sigmoid')(X)\n",
    "    \n",
    "    model=Model(inputs=X_input ,outputs=X,name='KerasModel')\n",
    "    \n",
    "    return model\n",
    "    "
   ]
  },
  {
   "cell_type": "code",
   "execution_count": 5,
   "metadata": {},
   "outputs": [],
   "source": [
    "model=KerasModel(X_train.shape[1:])"
   ]
  },
  {
   "cell_type": "code",
   "execution_count": 6,
   "metadata": {},
   "outputs": [],
   "source": [
    "model.compile(optimizer='adam',loss='binary_crossentropy',metrics=['accuracy'])"
   ]
  },
  {
   "cell_type": "code",
   "execution_count": 8,
   "metadata": {},
   "outputs": [
    {
     "name": "stdout",
     "output_type": "stream",
     "text": [
      "Epoch 1/15\n",
      "600/600 [==============================] - 11s 19ms/step - loss: 0.6216 - accuracy: 0.7033\n",
      "Epoch 2/15\n",
      "600/600 [==============================] - 2s 4ms/step - loss: 0.4752 - accuracy: 0.8667\n",
      "Epoch 3/15\n",
      "600/600 [==============================] - 3s 4ms/step - loss: 0.3626 - accuracy: 0.9233\n",
      "Epoch 4/15\n",
      "600/600 [==============================] - 2s 4ms/step - loss: 0.2831 - accuracy: 0.9433\n",
      "Epoch 5/15\n",
      "600/600 [==============================] - 3s 4ms/step - loss: 0.2040 - accuracy: 0.9767: 1s - loss: 0.2240 - \n",
      "Epoch 6/15\n",
      "600/600 [==============================] - 2s 4ms/step - loss: 0.1776 - accuracy: 0.9733\n",
      "Epoch 7/15\n",
      "600/600 [==============================] - 3s 4ms/step - loss: 0.1564 - accuracy: 0.9733\n",
      "Epoch 8/15\n",
      "600/600 [==============================] - 2s 4ms/step - loss: 0.1413 - accuracy: 0.9733\n",
      "Epoch 9/15\n",
      "600/600 [==============================] - 2s 4ms/step - loss: 0.1178 - accuracy: 0.9833\n",
      "Epoch 10/15\n",
      "600/600 [==============================] - 2s 4ms/step - loss: 0.1064 - accuracy: 0.9783\n",
      "Epoch 11/15\n",
      "600/600 [==============================] - 3s 4ms/step - loss: 0.0959 - accuracy: 0.9850\n",
      "Epoch 12/15\n",
      "600/600 [==============================] - 3s 4ms/step - loss: 0.0768 - accuracy: 0.9850\n",
      "Epoch 13/15\n",
      "600/600 [==============================] - 3s 4ms/step - loss: 0.0769 - accuracy: 0.9867\n",
      "Epoch 14/15\n",
      "600/600 [==============================] - 2s 4ms/step - loss: 0.0738 - accuracy: 0.9833\n",
      "Epoch 15/15\n",
      "600/600 [==============================] - 3s 4ms/step - loss: 0.0619 - accuracy: 0.9917\n"
     ]
    }
   ],
   "source": [
    "history=model.fit(X_train,Y_train,batch_size=40,epochs=15)"
   ]
  },
  {
   "cell_type": "code",
   "execution_count": 9,
   "metadata": {},
   "outputs": [
    {
     "data": {
      "image/png": "[encoded data removed]",
      "text/plain": [
       "<Figure size 432x288 with 1 Axes>"
      ]
     },
     "metadata": {
      "needs_background": "light"
     },
     "output_type": "display_data"
    }
   ],
   "source": [
    "plt.plot(history.history['loss'])\n",
    "plt.title('model loss')\n",
    "plt.ylabel('loss')\n",
    "plt.xlabel('epoch')\n",
    "plt.legend(['train', 'test'], loc='upper left')\n",
    "plt.show()"
   ]
  },
  {
   "cell_type": "code",
   "execution_count": 10,
   "metadata": {},
   "outputs": [
    {
     "data": {
      "text/plain": [
       "<matplotlib.legend.Legend at 0x1a83f64b488>"
      ]
     },
     "execution_count": 10,
     "metadata": {},
     "output_type": "execute_result"
    },
    {
     "data": {
      "image/png": "[encoded data removed]",
      "text/plain": [
       "<Figure size 432x288 with 1 Axes>"
      ]
     },
     "metadata": {
      "needs_background": "light"
     },
     "output_type": "display_data"
    }
   ],
   "source": [
    "plt.plot(history.history['accuracy'])\n",
    "plt.xlabel('epoch')\n",
    "plt.ylabel('accuracy')\n",
    "plt.title('model accuracy')\n",
    "plt.legend(['train', 'test'], loc='upper left')"
   ]
  },
  {
   "cell_type": "code",
   "execution_count": null,
   "metadata": {},
   "outputs": [],
   "source": []
  }
 ],
 "metadata": {
  "kernelspec": {
   "display_name": "Python 3",
   "language": "python",
   "name": "python3"
  },
  "language_info": {
   "codemirror_mode": {
    "name": "ipython",
    "version": 3
   },
   "file_extension": ".py",
   "mimetype": "text/x-python",
   "name": "python",
   "nbconvert_exporter": "python",
   "pygments_lexer": "ipython3",
   "version": "3.7.4"
  }
 },
 "nbformat": 4,
 "nbformat_minor": 2
}
