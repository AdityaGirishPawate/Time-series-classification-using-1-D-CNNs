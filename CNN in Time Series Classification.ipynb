{
 "cells": [
  {
   "cell_type": "markdown",
   "metadata": {},
   "source": [
    "How to Develop 1D Convolutional Neural Network Models for Human Activity Recognition\n",
    "\n",
    "Below is an example video of a subject performing the activities while their movement data is being recorded.\n",
    "\n",
    "The six activities performed were as follows:\n",
    "\n",
    "Walking\n",
    "Walking Upstairs\n",
    "Walking Downstairs\n",
    "Sitting\n",
    "Standing\n",
    "Laying\n",
    "\n",
    "The movement data recorded was the x, y, and z accelerometer data (linear acceleration) and gyroscopic data (angular velocity) from the smart phone, specifically a Samsung Galaxy S II. Observations were recorded at 50 Hz (i.e. 50 data points per second). Each subject performed the sequence of activities twice, once with the device on their left-hand-side and once with the device on their right-hand side.\n",
    "\n",
    "Pre-processing accelerometer and gyroscope using noise filters.\n",
    "Splitting data into fixed windows of 2.56 seconds (128 data points) with 50% overlap.\n",
    "Splitting of accelerometer data into gravitational (total) and body motion components."
   ]
  },
  {
   "cell_type": "markdown",
   "metadata": {},
   "source": [
    "<h1>Develop 1D Convolutional Neural Network</h1>"
   ]
  },
  {
   "cell_type": "code",
   "execution_count": 52,
   "metadata": {},
   "outputs": [],
   "source": [
    "# multi-headed cnn model\n",
    "from numpy import mean\n",
    "from numpy import std\n",
    "from numpy import dstack\n",
    "from pandas import read_csv\n",
    "from matplotlib import pyplot\n",
    "from keras.utils import to_categorical\n",
    "from keras.utils.vis_utils import plot_model\n",
    "from keras.models import Model\n",
    "from keras.layers import Input\n",
    "from keras.layers import Dense\n",
    "from keras.layers import Flatten\n",
    "from keras.layers import Dropout\n",
    "from keras.layers.convolutional import Conv1D\n",
    "from keras.layers.convolutional import MaxPooling1D\n",
    "from keras.layers.merge import concatenate"
   ]
  },
  {
   "cell_type": "code",
   "execution_count": 53,
   "metadata": {},
   "outputs": [],
   "source": [
    "# load a single file as a numpy array\n",
    "def load_file(filepath):\n",
    "    dataframe = read_csv(filepath, header=None, delim_whitespace=True)\n",
    "    return dataframe.values"
   ]
  },
  {
   "cell_type": "code",
   "execution_count": 54,
   "metadata": {},
   "outputs": [],
   "source": [
    "\n",
    "# load a list of files into a 3D array of [samples, timesteps, features]\n",
    "def load_group(filenames, prefix=''):\n",
    "    loaded = list()\n",
    "    for name in filenames:\n",
    "        data = load_file(prefix + name)\n",
    "        loaded.append(data)\n",
    "    # stack group so that features are the 3rd dimension\n",
    "    loaded = dstack(loaded)\n",
    "    return loaded"
   ]
  },
  {
   "cell_type": "code",
   "execution_count": 55,
   "metadata": {},
   "outputs": [],
   "source": [
    "def load_dataset_group(group, prefix=''):\n",
    "    filepath = prefix + group + '/Inertial Signals/'\n",
    "    # load all 9 files as a single array\n",
    "    filenames = list()\n",
    "    # total acceleration\n",
    "    filenames += ['total_acc_x_'+group+'.txt', 'total_acc_y_'+group+'.txt', 'total_acc_z_'+group+'.txt']\n",
    "    # body acceleration\n",
    "    filenames += ['body_acc_x_'+group+'.txt', 'body_acc_y_'+group+'.txt', 'body_acc_z_'+group+'.txt']\n",
    "    # body gyroscope\n",
    "    filenames += ['body_gyro_x_'+group+'.txt', 'body_gyro_y_'+group+'.txt', 'body_gyro_z_'+group+'.txt']\n",
    "    # load input data\n",
    "    X = load_group(filenames, filepath)\n",
    "    # load class output\n",
    "    y = load_file(prefix + group + '/y_'+group+'.txt')\n",
    "    return X, y"
   ]
  },
  {
   "cell_type": "code",
   "execution_count": 56,
   "metadata": {},
   "outputs": [],
   "source": [
    "# load the dataset, returns train and test X and y elements\n",
    "def load_dataset(prefix=''):\n",
    "    # load all train\n",
    "    trainX, trainy = load_dataset_group('train', prefix + 'C:/Users/Girish/Downloads/Jupyter notebooks/HARDataset/')\n",
    "    print(trainX.shape, trainy.shape)\n",
    "    # load all test\n",
    "    testX, testy = load_dataset_group('test', prefix + 'C:/Users/Girish/Downloads/Jupyter notebooks/HARDataset/')\n",
    "    print(testX.shape, testy.shape)\n",
    "    # zero-offset class values\n",
    "    trainy = trainy - 1\n",
    "    testy = testy - 1\n",
    "    # one hot encode y\n",
    "    trainy = to_categorical(trainy)\n",
    "    testy = to_categorical(testy)\n",
    "    print(trainX.shape, trainy.shape, testX.shape, testy.shape)\n",
    "    return trainX, trainy, testX, testy"
   ]
  },
  {
   "cell_type": "code",
   "execution_count": 57,
   "metadata": {},
   "outputs": [],
   "source": [
    "def Model1(trainX, trainy, testX, testy):\n",
    "    verbose, epochs, batch_size = 0, 10, 32\n",
    "    n_timesteps, n_features, n_outputs = trainX.shape[1], trainX.shape[2], trainy.shape[1]\n",
    "    # head 1\n",
    "    inputs1 = Input(shape=(n_timesteps,n_features))\n",
    "    conv1 = Conv1D(filters=64, kernel_size=3, activation='relu')(inputs1)\n",
    "    drop1 = Dropout(0.5)(conv1)\n",
    "    pool1 = MaxPooling1D(pool_size=2)(drop1)\n",
    "    flat1 = Flatten()(pool1)\n",
    "    # head 2\n",
    "    inputs2 = Input(shape=(n_timesteps,n_features))\n",
    "    conv2 = Conv1D(filters=64, kernel_size=5, activation='relu')(inputs2)\n",
    "    drop2 = Dropout(0.5)(conv2)\n",
    "    pool2 = MaxPooling1D(pool_size=2)(drop2)\n",
    "    flat2 = Flatten()(pool2)\n",
    "    # head 3\n",
    "    inputs3 = Input(shape=(n_timesteps,n_features))\n",
    "    conv3 = Conv1D(filters=64, kernel_size=11, activation='relu')(inputs3)\n",
    "    drop3 = Dropout(0.5)(conv3)\n",
    "    pool3 = MaxPooling1D(pool_size=2)(drop3)\n",
    "    flat3 = Flatten()(pool3)\n",
    "    # merge\n",
    "    merged = concatenate([flat1, flat2, flat3])\n",
    "    # interpretation\n",
    "    dense1 = Dense(100, activation='relu')(merged)\n",
    "    outputs = Dense(n_outputs, activation='softmax')(dense1)\n",
    "    model = Model(inputs=[inputs1, inputs2, inputs3], outputs=outputs)\n",
    "    return model\n"
   ]
  },
  {
   "cell_type": "code",
   "execution_count": 58,
   "metadata": {},
   "outputs": [
    {
     "name": "stdout",
     "output_type": "stream",
     "text": [
      "(7352, 128, 9) (7352, 1)\n",
      "(2947, 128, 9) (2947, 1)\n",
      "(7352, 128, 9) (7352, 6) (2947, 128, 9) (2947, 6)\n"
     ]
    }
   ],
   "source": [
    "trainX, trainy, testX, testy=load_dataset()"
   ]
  },
  {
   "cell_type": "code",
   "execution_count": 59,
   "metadata": {},
   "outputs": [],
   "source": [
    "model=Model1(trainX, trainy, testX, testy)"
   ]
  },
  {
   "cell_type": "code",
   "execution_count": 60,
   "metadata": {},
   "outputs": [],
   "source": [
    "model.compile(optimizer='adam',loss='categorical_crossentropy',metrics=['accuracy'])"
   ]
  },
  {
   "cell_type": "code",
   "execution_count": 61,
   "metadata": {},
   "outputs": [
    {
     "name": "stdout",
     "output_type": "stream",
     "text": [
      "Epoch 1/40\n",
      "7352/7352 [==============================] - 8s 1ms/step - loss: 0.6147 - accuracy: 0.7617\n",
      "Epoch 2/40\n",
      "7352/7352 [==============================] - 5s 701us/step - loss: 0.1779 - accuracy: 0.9372\n",
      "Epoch 3/40\n",
      "7352/7352 [==============================] - 5s 671us/step - loss: 0.1268 - accuracy: 0.9490\n",
      "Epoch 4/40\n",
      "7352/7352 [==============================] - 5s 648us/step - loss: 0.1148 - accuracy: 0.9504\n",
      "Epoch 5/40\n",
      "7352/7352 [==============================] - 5s 655us/step - loss: 0.1031 - accuracy: 0.9547\n",
      "Epoch 6/40\n",
      "7352/7352 [==============================] - 5s 660us/step - loss: 0.0996 - accuracy: 0.9570\n",
      "Epoch 7/40\n",
      "7352/7352 [==============================] - 5s 657us/step - loss: 0.1070 - accuracy: 0.9532\n",
      "Epoch 8/40\n",
      "7352/7352 [==============================] - 5s 695us/step - loss: 0.0979 - accuracy: 0.9555\n",
      "Epoch 9/40\n",
      "7352/7352 [==============================] - 5s 691us/step - loss: 0.1075 - accuracy: 0.9558\n",
      "Epoch 10/40\n",
      "7352/7352 [==============================] - 5s 747us/step - loss: 0.0913 - accuracy: 0.9580\n",
      "Epoch 11/40\n",
      "7352/7352 [==============================] - 5s 697us/step - loss: 0.0890 - accuracy: 0.9612\n",
      "Epoch 12/40\n",
      "7352/7352 [==============================] - 5s 680us/step - loss: 0.0873 - accuracy: 0.9606\n",
      "Epoch 13/40\n",
      "7352/7352 [==============================] - 5s 677us/step - loss: 0.0877 - accuracy: 0.9593\n",
      "Epoch 14/40\n",
      "7352/7352 [==============================] - 5s 683us/step - loss: 0.0898 - accuracy: 0.9587\n",
      "Epoch 15/40\n",
      "7352/7352 [==============================] - 5s 695us/step - loss: 0.0801 - accuracy: 0.9649\n",
      "Epoch 16/40\n",
      "7352/7352 [==============================] - 5s 689us/step - loss: 0.0722 - accuracy: 0.9690\n",
      "Epoch 17/40\n",
      "7352/7352 [==============================] - 5s 695us/step - loss: 0.0709 - accuracy: 0.9702\n",
      "Epoch 18/40\n",
      "7352/7352 [==============================] - 5s 717us/step - loss: 0.0640 - accuracy: 0.9721\n",
      "Epoch 19/40\n",
      "7352/7352 [==============================] - 5s 683us/step - loss: 0.0773 - accuracy: 0.9661\n",
      "Epoch 20/40\n",
      "7352/7352 [==============================] - 5s 730us/step - loss: 0.0626 - accuracy: 0.9723\n",
      "Epoch 21/40\n",
      "7352/7352 [==============================] - 5s 689us/step - loss: 0.0624 - accuracy: 0.9714\n",
      "Epoch 22/40\n",
      "7352/7352 [==============================] - 5s 683us/step - loss: 0.0563 - accuracy: 0.9762\n",
      "Epoch 23/40\n",
      "7352/7352 [==============================] - 5s 691us/step - loss: 0.0611 - accuracy: 0.9724\n",
      "Epoch 24/40\n",
      "7352/7352 [==============================] - 5s 698us/step - loss: 0.0886 - accuracy: 0.9649\n",
      "Epoch 25/40\n",
      "7352/7352 [==============================] - 5s 689us/step - loss: 0.0872 - accuracy: 0.9660\n",
      "Epoch 26/40\n",
      "7352/7352 [==============================] - 5s 669us/step - loss: 0.0559 - accuracy: 0.9771\n",
      "Epoch 27/40\n",
      "7352/7352 [==============================] - 5s 686us/step - loss: 0.0510 - accuracy: 0.9774\n",
      "Epoch 28/40\n",
      "7352/7352 [==============================] - 5s 701us/step - loss: 0.0517 - accuracy: 0.9784\n",
      "Epoch 29/40\n",
      "7352/7352 [==============================] - 5s 700us/step - loss: 0.0473 - accuracy: 0.9799\n",
      "Epoch 30/40\n",
      "7352/7352 [==============================] - 5s 683us/step - loss: 0.0458 - accuracy: 0.9808\n",
      "Epoch 31/40\n",
      "7352/7352 [==============================] - 5s 679us/step - loss: 0.0455 - accuracy: 0.9799\n",
      "Epoch 32/40\n",
      "7352/7352 [==============================] - 5s 677us/step - loss: 0.0400 - accuracy: 0.9827\n",
      "Epoch 33/40\n",
      "7352/7352 [==============================] - 5s 729us/step - loss: 0.0450 - accuracy: 0.9803\n",
      "Epoch 34/40\n",
      "7352/7352 [==============================] - 5s 703us/step - loss: 0.0417 - accuracy: 0.9810\n",
      "Epoch 35/40\n",
      "7352/7352 [==============================] - 5s 701us/step - loss: 0.0405 - accuracy: 0.9829\n",
      "Epoch 36/40\n",
      "7352/7352 [==============================] - 5s 693us/step - loss: 0.0355 - accuracy: 0.9853\n",
      "Epoch 37/40\n",
      "7352/7352 [==============================] - 5s 709us/step - loss: 0.0391 - accuracy: 0.9822\n",
      "Epoch 38/40\n",
      "7352/7352 [==============================] - 5s 730us/step - loss: 0.0332 - accuracy: 0.9856\n",
      "Epoch 39/40\n",
      "7352/7352 [==============================] - 5s 690us/step - loss: 0.0337 - accuracy: 0.9859\n",
      "Epoch 40/40\n",
      "7352/7352 [==============================] - 5s 678us/step - loss: 0.0320 - accuracy: 0.9865\n"
     ]
    }
   ],
   "source": [
    "history=model.fit([trainX,trainX,trainX],trainy,epochs=40,batch_size=183)"
   ]
  },
  {
   "cell_type": "code",
   "execution_count": 62,
   "metadata": {},
   "outputs": [
    {
     "name": "stdout",
     "output_type": "stream",
     "text": [
      "2947/2947 [==============================] - 1s 348us/step\n",
      "Loss = 0.34041046722259455\n",
      "Test Accuracy = 0.9236511588096619\n"
     ]
    }
   ],
   "source": [
    "preds = model.evaluate([testX,testX,testX],testy)\n",
    "print (\"Loss = \" + str(preds[0]))\n",
    "print (\"Test Accuracy = \" + str(preds[1]))"
   ]
  },
  {
   "cell_type": "code",
   "execution_count": 63,
   "metadata": {},
   "outputs": [],
   "source": [
    "import matplotlib.pyplot as plt"
   ]
  },
  {
   "cell_type": "code",
   "execution_count": 65,
   "metadata": {},
   "outputs": [
    {
     "data": {
      "image/png": "[encoded data removed]",
      "text/plain": [
       "<Figure size 432x288 with 1 Axes>"
      ]
     },
     "metadata": {
      "needs_background": "light"
     },
     "output_type": "display_data"
    }
   ],
   "source": [
    "plt.plot(history.history['accuracy'])\n",
    "plt.title('model accuracy')\n",
    "plt.ylabel('accuracy')\n",
    "plt.xlabel('epoch')\n",
    "plt.legend(['train', 'test'], loc='upper left')\n",
    "plt.show()"
   ]
  },
  {
   "cell_type": "code",
   "execution_count": 66,
   "metadata": {},
   "outputs": [
    {
     "data": {
      "image/png": "[encoded data removed]",
      "text/plain": [
       "<Figure size 432x288 with 1 Axes>"
      ]
     },
     "metadata": {
      "needs_background": "light"
     },
     "output_type": "display_data"
    }
   ],
   "source": [
    "plt.plot(history.history['loss'])\n",
    "plt.title('model loss')\n",
    "plt.ylabel('loss')\n",
    "plt.xlabel('epoch')\n",
    "plt.legend(['train', 'test'], loc='upper left')\n",
    "plt.show()"
   ]
  }
 ],
 "metadata": {
  "kernelspec": {
   "display_name": "Python 3",
   "language": "python",
   "name": "python3"
  },
  "language_info": {
   "codemirror_mode": {
    "name": "ipython",
    "version": 3
   },
   "file_extension": ".py",
   "mimetype": "text/x-python",
   "name": "python",
   "nbconvert_exporter": "python",
   "pygments_lexer": "ipython3",
   "version": "3.7.7"
  }
 },
 "nbformat": 4,
 "nbformat_minor": 2
}
